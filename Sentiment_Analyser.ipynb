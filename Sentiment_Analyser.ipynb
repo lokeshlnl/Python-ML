{
 "cells": [
  {
   "cell_type": "code",
   "execution_count": 3,
   "id": "ebb35886-eebc-48e2-9d82-550bac0eaacd",
   "metadata": {},
   "outputs": [],
   "source": [
    "import pandas as pd\n",
    "import numpy as np\n",
    "import re\n",
    "from textblob import TextBlob\n",
    "from sklearn.feature_extraction.text import TfidfVectorizer\n",
    "from sklearn.model_selection import train_test_split\n",
    "from sklearn.neighbors import KNeighborsClassifier\n",
    "from sklearn.metrics import accuracy_score, classification_report, confusion_matrix\n",
    "import seaborn as sns\n",
    "import matplotlib.pyplot as plt\n"
   ]
  },
  {
   "cell_type": "code",
   "execution_count": 4,
   "id": "1b7898d0-b345-4a11-a853-96c6ad641668",
   "metadata": {},
   "outputs": [],
   "source": [
    "# !pip install textblob"
   ]
  },
  {
   "cell_type": "code",
   "execution_count": 5,
   "id": "29cc3960-fd58-482b-8cee-8d6d6efeae0a",
   "metadata": {},
   "outputs": [
    {
     "data": {
      "text/html": [
       "<div>\n",
       "<style scoped>\n",
       "    .dataframe tbody tr th:only-of-type {\n",
       "        vertical-align: middle;\n",
       "    }\n",
       "\n",
       "    .dataframe tbody tr th {\n",
       "        vertical-align: top;\n",
       "    }\n",
       "\n",
       "    .dataframe thead th {\n",
       "        text-align: right;\n",
       "    }\n",
       "</style>\n",
       "<table border=\"1\" class=\"dataframe\">\n",
       "  <thead>\n",
       "    <tr style=\"text-align: right;\">\n",
       "      <th></th>\n",
       "      <th>Date</th>\n",
       "      <th>Tweet</th>\n",
       "      <th>Cleaned_Tweet</th>\n",
       "    </tr>\n",
       "  </thead>\n",
       "  <tbody>\n",
       "    <tr>\n",
       "      <th>0</th>\n",
       "      <td>2025-08-08 06:37:19+00:00</td>\n",
       "      <td>🏛️ Trump Welcomes Crypto to 401(k) Plans: A ne...</td>\n",
       "      <td>trump welcomes crypto to k plans a new executi...</td>\n",
       "    </tr>\n",
       "    <tr>\n",
       "      <th>1</th>\n",
       "      <td>2025-08-08 06:37:09+00:00</td>\n",
       "      <td>@IslamInvasion Y’all need a Donald Trump 2.0</td>\n",
       "      <td>yall need a donald trump</td>\n",
       "    </tr>\n",
       "    <tr>\n",
       "      <th>2</th>\n",
       "      <td>2025-08-08 06:37:06+00:00</td>\n",
       "      <td>@_SueSue_1 @Whitlina @joma_gc @JamesCarville I...</td>\n",
       "      <td>if a single living democrat was on the epstein...</td>\n",
       "    </tr>\n",
       "    <tr>\n",
       "      <th>3</th>\n",
       "      <td>2025-08-08 06:37:00+00:00</td>\n",
       "      <td>@WhiteHouse At 66, Former Personal Driver Brea...</td>\n",
       "      <td>at former personal driver breaks silence on do...</td>\n",
       "    </tr>\n",
       "    <tr>\n",
       "      <th>4</th>\n",
       "      <td>2025-08-08 06:36:59+00:00</td>\n",
       "      <td>@AGPamBondi @TheJusticeDept @StateDept ARTICLE...</td>\n",
       "      <td>article trump and epstein were very close frie...</td>\n",
       "    </tr>\n",
       "  </tbody>\n",
       "</table>\n",
       "</div>"
      ],
      "text/plain": [
       "                        Date  \\\n",
       "0  2025-08-08 06:37:19+00:00   \n",
       "1  2025-08-08 06:37:09+00:00   \n",
       "2  2025-08-08 06:37:06+00:00   \n",
       "3  2025-08-08 06:37:00+00:00   \n",
       "4  2025-08-08 06:36:59+00:00   \n",
       "\n",
       "                                               Tweet  \\\n",
       "0  🏛️ Trump Welcomes Crypto to 401(k) Plans: A ne...   \n",
       "1       @IslamInvasion Y’all need a Donald Trump 2.0   \n",
       "2  @_SueSue_1 @Whitlina @joma_gc @JamesCarville I...   \n",
       "3  @WhiteHouse At 66, Former Personal Driver Brea...   \n",
       "4  @AGPamBondi @TheJusticeDept @StateDept ARTICLE...   \n",
       "\n",
       "                                       Cleaned_Tweet  \n",
       "0  trump welcomes crypto to k plans a new executi...  \n",
       "1                           yall need a donald trump  \n",
       "2  if a single living democrat was on the epstein...  \n",
       "3  at former personal driver breaks silence on do...  \n",
       "4  article trump and epstein were very close frie...  "
      ]
     },
     "execution_count": 5,
     "metadata": {},
     "output_type": "execute_result"
    }
   ],
   "source": [
    "df = pd.read_csv(\"donald_trump_tweets.csv\")\n",
    "\n",
    "# Clean tweets\n",
    "def clean_tweet(tweet):\n",
    "    tweet = str(tweet).lower()\n",
    "    tweet = re.sub(r\"http\\S+|www.\\S+\", \"\", tweet)\n",
    "    tweet = re.sub(r\"@[A-Za-z0-9_]+\", \"\", tweet)\n",
    "    tweet = re.sub(r\"#\", \"\", tweet)\n",
    "    tweet = re.sub(r\"[^a-zA-Z\\s]\", \"\", tweet)\n",
    "    tweet = re.sub(r\"\\s+\", \" \", tweet).strip()\n",
    "    return tweet\n",
    "\n",
    "df[\"Cleaned_Tweet\"] = df[\"Tweet\"].apply(clean_tweet)\n",
    "df.head()\n"
   ]
  },
  {
   "cell_type": "code",
   "execution_count": 6,
   "id": "35bed26e-13ec-49c3-9d34-cdcc555beb88",
   "metadata": {},
   "outputs": [
    {
     "data": {
      "text/plain": [
       "Sentiment\n",
       "Neutral     60\n",
       "Positive    28\n",
       "Negative    12\n",
       "Name: count, dtype: int64"
      ]
     },
     "execution_count": 6,
     "metadata": {},
     "output_type": "execute_result"
    }
   ],
   "source": [
    "# Auto-label using TextBlob for initial experimentation\n",
    "def get_sentiment(tweet):\n",
    "    polarity = TextBlob(tweet).sentiment.polarity\n",
    "    if polarity > 0.1:\n",
    "        return \"Positive\"\n",
    "    elif polarity < -0.1:\n",
    "        return \"Negative\"\n",
    "    else:\n",
    "        return \"Neutral\"\n",
    "\n",
    "df[\"Sentiment\"] = df[\"Cleaned_Tweet\"].apply(get_sentiment)\n",
    "df[\"Sentiment\"].value_counts()\n"
   ]
  },
  {
   "cell_type": "code",
   "execution_count": 7,
   "id": "79832154-2c7b-4f39-ab53-cae4b575c370",
   "metadata": {},
   "outputs": [],
   "source": [
    "vectorizer = TfidfVectorizer()\n",
    "X = vectorizer.fit_transform(df[\"Cleaned_Tweet\"])\n",
    "y = df[\"Sentiment\"]\n"
   ]
  },
  {
   "cell_type": "code",
   "execution_count": 8,
   "id": "d43538e0-58a8-4121-b4a1-bad77d5f677e",
   "metadata": {},
   "outputs": [],
   "source": [
    "X_train, X_test, y_train, y_test = train_test_split(\n",
    "    X, y, test_size=0.2, random_state=42\n",
    ")\n"
   ]
  },
  {
   "cell_type": "code",
   "execution_count": 9,
   "id": "40351280-f48c-4011-abea-36a242da4e54",
   "metadata": {},
   "outputs": [],
   "source": [
    "knn = KNeighborsClassifier(n_neighbors=3)\n",
    "knn.fit(X_train, y_train)\n",
    "\n",
    "y_pred = knn.predict(X_test)\n"
   ]
  },
  {
   "cell_type": "code",
   "execution_count": 10,
   "id": "5ca67292-269e-40cf-9aa6-3d753f1fee26",
   "metadata": {},
   "outputs": [
    {
     "name": "stdout",
     "output_type": "stream",
     "text": [
      "Accuracy: 0.65\n",
      "              precision    recall  f1-score   support\n",
      "\n",
      "    Negative       0.33      0.50      0.40         2\n",
      "     Neutral       0.69      0.82      0.75        11\n",
      "    Positive       0.75      0.43      0.55         7\n",
      "\n",
      "    accuracy                           0.65        20\n",
      "   macro avg       0.59      0.58      0.57        20\n",
      "weighted avg       0.68      0.65      0.64        20\n",
      "\n"
     ]
    }
   ],
   "source": [
    "print(\"Accuracy:\", accuracy_score(y_test, y_pred))\n",
    "print(classification_report(y_test, y_pred))\n"
   ]
  },
  {
   "cell_type": "code",
   "execution_count": 11,
   "id": "e30b862c-737c-42e7-a8a4-c6a09afff319",
   "metadata": {},
   "outputs": [
    {
     "data": {
      "image/png": "[encoded data removed]",
      "text/plain": [
       "<Figure size 640x480 with 2 Axes>"
      ]
     },
     "metadata": {},
     "output_type": "display_data"
    }
   ],
   "source": [
    "cm = confusion_matrix(y_test, y_pred, labels=[\"Positive\", \"Negative\", \"Neutral\"])\n",
    "sns.heatmap(cm, annot=True, fmt=\"d\", xticklabels=[\"Positive\", \"Negative\", \"Neutral\"], yticklabels=[\"Positive\", \"Negative\", \"Neutral\"])\n",
    "plt.xlabel(\"Predicted\")\n",
    "plt.ylabel(\"Actual\")\n",
    "plt.title(\"Confusion Matrix - KNN\")\n",
    "plt.show()\n"
   ]
  },
  {
   "cell_type": "code",
   "execution_count": 12,
   "id": "c67cdfd4-92db-49f7-b3fd-fe47feeb1e35",
   "metadata": {},
   "outputs": [
    {
     "name": "stdout",
     "output_type": "stream",
     "text": [
      "Trump is doing great! --> Neutral\n",
      "This is a disaster! --> Neutral\n",
      "Not sure what to say --> Positive\n"
     ]
    }
   ],
   "source": [
    "# Input your own tweets here\n",
    "new_tweets = [\"Trump is doing great!\", \"This is a disaster!\", \"Not sure what to say\"]\n",
    "cleaned = [clean_tweet(tweet) for tweet in new_tweets]\n",
    "X_new = vectorizer.transform(cleaned)\n",
    "\n",
    "# Predict sentiments\n",
    "predictions = knn.predict(X_new)\n",
    "for tweet, sentiment in zip(new_tweets, predictions):\n",
    "    print(f\"{tweet} --> {sentiment}\")\n"
   ]
  },
  {
   "cell_type": "code",
   "execution_count": null,
   "id": "95b44c12-70cd-4e4b-9fa7-d3c39f0c7c5a",
   "metadata": {},
   "outputs": [],
   "source": []
  }
 ],
 "metadata": {
  "kernelspec": {
   "display_name": "Python 3 (ipykernel)",
   "language": "python",
   "name": "python3"
  },
  "language_info": {
   "codemirror_mode": {
    "name": "ipython",
    "version": 3
   },
   "file_extension": ".py",
   "mimetype": "text/x-python",
   "name": "python",
   "nbconvert_exporter": "python",
   "pygments_lexer": "ipython3",
   "version": "3.12.4"
  }
 },
 "nbformat": 4,
 "nbformat_minor": 5
}
